{
 "cells": [
  {
   "cell_type": "code",
   "execution_count": 1,
   "id": "fb1aa461",
   "metadata": {},
   "outputs": [],
   "source": [
    "guess = 'heads'"
   ]
  },
  {
   "cell_type": "code",
   "execution_count": 2,
   "id": "1308b04b",
   "metadata": {},
   "outputs": [
    {
     "name": "stdout",
     "output_type": "stream",
     "text": [
      "It is tails!\n",
      "It is tails!\n",
      "It is tails!\n",
      "It is heads!\n",
      "It is tails!\n",
      "It is heads!\n",
      "It is heads!\n",
      "It is heads!\n",
      "It is tails!\n",
      "It is tails!\n",
      "Your score is: 4\n"
     ]
    }
   ],
   "source": [
    "import random\n",
    "\n",
    "score = 0\n",
    "\n",
    "for i in range(10):\n",
    "    coin_toss = random.random()\n",
    "\n",
    "    if(coin_toss > 0.5):\n",
    "        print('It is tails!')\n",
    "        if(guess == 'tails'):\n",
    "            score = score+1\n",
    "    else:\n",
    "        print('It is heads!')\n",
    "        if(guess == 'heads'):\n",
    "            score = score+1\n",
    "\n",
    "print('Your score is:',score)"
   ]
  },
  {
   "cell_type": "code",
   "execution_count": 3,
   "id": "863131bf",
   "metadata": {},
   "outputs": [
    {
     "name": "stdout",
     "output_type": "stream",
     "text": [
      "0\n"
     ]
    }
   ],
   "source": [
    "print(random.randint(0, 2))"
   ]
  },
  {
   "cell_type": "code",
   "execution_count": 4,
   "id": "53fc5e01",
   "metadata": {},
   "outputs": [
    {
     "name": "stdout",
     "output_type": "stream",
     "text": [
      "{'0': 512, '1': 488}\n"
     ]
    },
    {
     "data": {
      "image/png": "[encoded data removed]",
      "text/plain": [
       "<Figure size 193.726x144.48 with 1 Axes>"
      ]
     },
     "execution_count": 4,
     "metadata": {},
     "output_type": "execute_result"
    }
   ],
   "source": [
    "import qiskit\n",
    "from qiskit import execute, Aer\n",
    "from math import pi\n",
    "\n",
    "circuit = qiskit.QuantumCircuit(1,1)\n",
    "\n",
    "circuit.h(0)\n",
    "\n",
    "circuit.measure(range(1),range(1))\n",
    "\n",
    "job = execute(circuit,Aer.get_backend('qasm_simulator'),shots=1000)\n",
    "counts = job.result().get_counts(circuit)\n",
    "print(counts)\n",
    "\n",
    "circuit.draw(output='mpl')"
   ]
  },
  {
   "cell_type": "code",
   "execution_count": 7,
   "id": "f6919c64",
   "metadata": {},
   "outputs": [
    {
     "name": "stdout",
     "output_type": "stream",
     "text": [
      "#X########\n"
     ]
    }
   ],
   "source": [
    "position_of_the_ship = random.randint(0, 9)\n",
    "\n",
    "#print(position)\n",
    "\n",
    "drawing = ''\n",
    "for i in range(10):\n",
    "    if(position_of_the_ship == i):\n",
    "        drawing = drawing + 'X'\n",
    "    else:\n",
    "        drawing = drawing + '#'\n",
    "print(drawing)"
   ]
  },
  {
   "cell_type": "code",
   "execution_count": 66,
   "id": "b4688167",
   "metadata": {},
   "outputs": [],
   "source": [
    "number_of_moves = 0"
   ]
  },
  {
   "cell_type": "code",
   "execution_count": 83,
   "id": "8de81e2a",
   "metadata": {},
   "outputs": [],
   "source": [
    "shooting_position = 8"
   ]
  },
  {
   "cell_type": "code",
   "execution_count": 84,
   "id": "1a0eadcf",
   "metadata": {},
   "outputs": [
    {
     "name": "stdout",
     "output_type": "stream",
     "text": [
      "You hit the ship!\n"
     ]
    }
   ],
   "source": [
    "if(shooting_position == position_of_the_ship):\n",
    "    print('You hit the ship!')\n",
    "else:\n",
    "    print('Miss!')\n",
    "number_of_moves = number_of_moves + 1"
   ]
  },
  {
   "cell_type": "code",
   "execution_count": 85,
   "id": "08d9b3b4",
   "metadata": {},
   "outputs": [
    {
     "name": "stdout",
     "output_type": "stream",
     "text": [
      "Number of moves: 9\n",
      "Your score is: 1\n"
     ]
    }
   ],
   "source": [
    "print('Number of moves:', number_of_moves)\n",
    "print('Your score is:', 10-number_of_moves)"
   ]
  },
  {
   "cell_type": "code",
   "execution_count": 8,
   "id": "ef8e3b28",
   "metadata": {},
   "outputs": [],
   "source": [
    "position_of_the_ship = random.randint(0, 7)"
   ]
  },
  {
   "cell_type": "code",
   "execution_count": 9,
   "id": "62351dbd",
   "metadata": {},
   "outputs": [
    {
     "name": "stdout",
     "output_type": "stream",
     "text": [
      "{'111': 114, '100': 132, '011': 141, '001': 120, '110': 136, '010': 131, '101': 111, '000': 115}\n"
     ]
    },
    {
     "data": {
      "image/png": "[encoded data removed]",
      "text/plain": [
       "<Figure size 327.397x264.88 with 1 Axes>"
      ]
     },
     "execution_count": 9,
     "metadata": {},
     "output_type": "execute_result"
    }
   ],
   "source": [
    "import qiskit\n",
    "from qiskit import execute, Aer\n",
    "from math import pi\n",
    "\n",
    "circuit = qiskit.QuantumCircuit(3,3)\n",
    "\n",
    "circuit.h(0)\n",
    "circuit.h(1)\n",
    "circuit.h(2)\n",
    "\n",
    "circuit.measure(range(3),range(3))\n",
    "\n",
    "job = execute(circuit,Aer.get_backend('qasm_simulator'),shots=1000)\n",
    "counts = job.result().get_counts(circuit)\n",
    "print(counts)\n",
    "\n",
    "circuit.draw(output='mpl')"
   ]
  },
  {
   "cell_type": "code",
   "execution_count": 10,
   "id": "9706aee2",
   "metadata": {},
   "outputs": [
    {
     "name": "stdout",
     "output_type": "stream",
     "text": [
      "You hit the ship!\n"
     ]
    }
   ],
   "source": [
    "format_string = '0' + str(3) + 'b'\n",
    "binary_value = format(position_of_the_ship, format_string)\n",
    "\n",
    "if binary_value in counts:\n",
    "    print('You hit the ship!')\n",
    "else:\n",
    "    print('Miss!')\n",
    "\n",
    "#print(binary_value)"
   ]
  },
  {
   "cell_type": "code",
   "execution_count": 24,
   "id": "99cbf105",
   "metadata": {},
   "outputs": [
    {
     "name": "stdout",
     "output_type": "stream",
     "text": [
      "[0, 0, 0, 1000, 0, 0, 0, 0]\n"
     ]
    }
   ],
   "source": [
    "hp_of_ships = []\n",
    "position = random.randint(0, 7)\n",
    "\n",
    "for i in range(8):\n",
    "    if(position == i):\n",
    "        hp_of_ships.append(1000)\n",
    "    else:\n",
    "        hp_of_ships.append(0)\n",
    "        \n",
    "print(hp_of_ships)"
   ]
  },
  {
   "cell_type": "code",
   "execution_count": 25,
   "id": "a218d082",
   "metadata": {},
   "outputs": [],
   "source": [
    "number_of_moves = 0"
   ]
  },
  {
   "cell_type": "code",
   "execution_count": 30,
   "id": "cd6f39a6",
   "metadata": {},
   "outputs": [
    {
     "name": "stdout",
     "output_type": "stream",
     "text": [
      "[0, 0, 517, 483, 0, 0, 0, 0]\n"
     ]
    },
    {
     "data": {
      "image/png": "[encoded data removed]",
      "text/plain": [
       "<Figure size 267.197x264.88 with 1 Axes>"
      ]
     },
     "execution_count": 30,
     "metadata": {},
     "output_type": "execute_result"
    }
   ],
   "source": [
    "import qiskit\n",
    "from qiskit import execute, Aer\n",
    "from math import pi\n",
    "\n",
    "circuit = qiskit.QuantumCircuit(3,3)\n",
    "\n",
    "circuit.h(0)\n",
    "circuit.x(1)\n",
    "#circuit.h(2)\n",
    "#circuit.cx(0,1)\n",
    "\n",
    "\n",
    "circuit.measure(range(3),range(3))\n",
    "\n",
    "job = execute(circuit,Aer.get_backend('qasm_simulator'),shots=1000)\n",
    "counts = job.result().get_counts(circuit)\n",
    "#print(counts)\n",
    "\n",
    "\n",
    "\n",
    "format_string = '0' + str(3) + 'b'\n",
    "shooting_locations = []\n",
    "for i in range(8):\n",
    "    binary_value = format(i, format_string)\n",
    "    if binary_value in counts:\n",
    "        shooting_locations.append(counts[binary_value])\n",
    "    else:\n",
    "        shooting_locations.append(0)\n",
    "print(shooting_locations)\n",
    "\n",
    "circuit.draw(output='mpl')"
   ]
  },
  {
   "cell_type": "code",
   "execution_count": 32,
   "id": "bb166095",
   "metadata": {},
   "outputs": [
    {
     "name": "stdout",
     "output_type": "stream",
     "text": [
      "You hit the ship!\n",
      "You won!\n",
      "[0, 0, 0, -202, 0, 0, 0, 0]\n",
      "Move has been performed!\n"
     ]
    }
   ],
   "source": [
    "for i in range(8):\n",
    "    if(hp_of_ships[i] > 0 and shooting_locations[i] > 0):\n",
    "        print('You hit the ship!')\n",
    "        hp_of_ships[i] = hp_of_ships[i] - shooting_locations[i]\n",
    "        if(hp_of_ships[i] <= 0):\n",
    "            print('You won!')\n",
    "            print(hp_of_ships)\n",
    "number_of_moves = number_of_moves+1\n",
    "print('Move has been performed!')"
   ]
  },
  {
   "cell_type": "code",
   "execution_count": 33,
   "id": "ca3e40c2",
   "metadata": {},
   "outputs": [
    {
     "name": "stdout",
     "output_type": "stream",
     "text": [
      "Number of moves: 4\n"
     ]
    }
   ],
   "source": [
    "print('Number of moves:', number_of_moves)\n",
    "#print(hp_of_ships)"
   ]
  },
  {
   "cell_type": "code",
   "execution_count": 34,
   "id": "c8557820",
   "metadata": {},
   "outputs": [],
   "source": [
    "import numpy as np\n",
    "\n",
    "hp_of_ships = []\n",
    "position_x = random.randint(0, 7)\n",
    "position_y = random.randint(0, 7)\n",
    "\n",
    "hp_of_ships = np.zeros((8, 8))\n",
    "\n",
    "hp_of_ships[position_y][position_x] = 1000\n",
    "#print(hp_of_ships)\n",
    "\n",
    "#print(position_x,position_y)\n",
    "number_of_moves = 0"
   ]
  },
  {
   "cell_type": "code",
   "execution_count": 35,
   "id": "5c295e1a",
   "metadata": {},
   "outputs": [
    {
     "name": "stdout",
     "output_type": "stream",
     "text": [
      "{'111': 251, '101': 240, '010': 266, '000': 243}\n"
     ]
    }
   ],
   "source": [
    "import qiskit\n",
    "from qiskit import execute, Aer\n",
    "from math import pi\n",
    "\n",
    "circuit_x = qiskit.QuantumCircuit(3,3)\n",
    "\n",
    "circuit_x.h(0)\n",
    "circuit_x.h(1)\n",
    "circuit_x.cx(0,2)\n",
    "\n",
    "\n",
    "circuit_x.measure(range(3),range(3))\n",
    "\n",
    "job = execute(circuit_x,Aer.get_backend('qasm_simulator'),shots=1000)\n",
    "counts_x = job.result().get_counts(circuit_x)\n",
    "print(counts_x)"
   ]
  },
  {
   "cell_type": "code",
   "execution_count": 36,
   "id": "04e4ecf9",
   "metadata": {},
   "outputs": [
    {
     "name": "stdout",
     "output_type": "stream",
     "text": [
      "{'010': 255, '111': 261, '101': 233, '000': 251}\n"
     ]
    }
   ],
   "source": [
    "import qiskit\n",
    "from qiskit import execute, Aer\n",
    "from math import pi\n",
    "\n",
    "circuit_y = qiskit.QuantumCircuit(3,3)\n",
    "\n",
    "circuit_y.h(0)\n",
    "circuit_y.h(1)\n",
    "circuit_y.cx(0,2)\n",
    "\n",
    "\n",
    "circuit_y.measure(range(3),range(3))\n",
    "\n",
    "job = execute(circuit_y,Aer.get_backend('qasm_simulator'),shots=1000)\n",
    "counts_y = job.result().get_counts(circuit_y)\n",
    "print(counts_y)"
   ]
  },
  {
   "cell_type": "code",
   "execution_count": 37,
   "id": "afdb2d3e",
   "metadata": {},
   "outputs": [
    {
     "name": "stdout",
     "output_type": "stream",
     "text": [
      "[[60.993  0.    66.766  0.     0.    60.24   0.    63.001]\n",
      " [ 0.     0.     0.     0.     0.     0.     0.     0.   ]\n",
      " [61.965  0.    67.83   0.     0.    61.2    0.    64.005]\n",
      " [ 0.     0.     0.     0.     0.     0.     0.     0.   ]\n",
      " [ 0.     0.     0.     0.     0.     0.     0.     0.   ]\n",
      " [56.619  0.    61.978  0.     0.    55.92   0.    58.483]\n",
      " [ 0.     0.     0.     0.     0.     0.     0.     0.   ]\n",
      " [63.423  0.    69.426  0.     0.    62.64   0.    65.511]]\n"
     ]
    }
   ],
   "source": [
    "hit_table = np.zeros((8, 8))\n",
    "\n",
    "format_string = '0' + str(3) + 'b'\n",
    "\n",
    "for i in range(8):\n",
    "    binary_value_y = format(i, format_string)\n",
    "    if binary_value_y in counts_y:\n",
    "        for j in range(8):\n",
    "            binary_value_x = format(j, format_string)\n",
    "            if binary_value_x in counts_x:\n",
    "                hit_table[i][j] = (counts_y[binary_value_y] * counts_x[binary_value_x])/1000\n",
    "\n",
    "print(hit_table)"
   ]
  },
  {
   "cell_type": "code",
   "execution_count": 38,
   "id": "40b6f517",
   "metadata": {},
   "outputs": [
    {
     "ename": "NameError",
     "evalue": "name 'JupyterWidgetEngine' is not defined",
     "output_type": "error",
     "traceback": [
      "\u001b[1;31m---------------------------------------------------------------------------\u001b[0m",
      "\u001b[1;31mNameError\u001b[0m                                 Traceback (most recent call last)",
      "\u001b[1;32m<ipython-input-38-d1b223b096d9>\u001b[0m in \u001b[0;36m<module>\u001b[1;34m\u001b[0m\n\u001b[0;32m     16\u001b[0m \u001b[1;33m\u001b[0m\u001b[0m\n\u001b[0;32m     17\u001b[0m \u001b[1;31m# run the game for an 8x8 screen\u001b[0m\u001b[1;33m\u001b[0m\u001b[1;33m\u001b[0m\u001b[1;33m\u001b[0m\u001b[0m\n\u001b[1;32m---> 18\u001b[1;33m \u001b[0mengine\u001b[0m \u001b[1;33m=\u001b[0m \u001b[0mJupyterWidgetEngine\u001b[0m\u001b[1;33m(\u001b[0m\u001b[0mstart\u001b[0m\u001b[1;33m,\u001b[0m\u001b[0mnext_frame\u001b[0m\u001b[1;33m,\u001b[0m\u001b[0mL\u001b[0m\u001b[1;33m=\u001b[0m\u001b[1;36m8\u001b[0m\u001b[1;33m)\u001b[0m\u001b[1;33m\u001b[0m\u001b[1;33m\u001b[0m\u001b[0m\n\u001b[0m",
      "\u001b[1;31mNameError\u001b[0m: name 'JupyterWidgetEngine' is not defined"
     ]
    }
   ],
   "source": [
    "# function called when setting up\n",
    "def start(engine):\n",
    "    # just move on to the first frame\n",
    "    next_frame(engine)\n",
    "\n",
    "# this is the function that does everything\n",
    "def next_frame (engine):\n",
    "    \n",
    "    # set all pixels to green\n",
    "    for x in range(engine.L):\n",
    "        for y in range(engine.L):\n",
    "            if hit_table[y][x] > 0:\n",
    "                engine.screen[x,y].set_color('red')\n",
    "            else:\n",
    "                engine.screen[x,y].set_color('green')\n",
    "    \n",
    "# run the game for an 8x8 screen\n",
    "engine = JupyterWidgetEngine(start,next_frame,L=8)"
   ]
  },
  {
   "cell_type": "code",
   "execution_count": 39,
   "id": "0d1d6002",
   "metadata": {},
   "outputs": [
    {
     "name": "stdout",
     "output_type": "stream",
     "text": [
      "You hit the ship!\n",
      "Move has been performed!\n"
     ]
    }
   ],
   "source": [
    "for i in range(8):\n",
    "    for j in range(8):\n",
    "        if(hp_of_ships[i][j] > 0 and hit_table[i][j] > 0):\n",
    "            print('You hit the ship!')\n",
    "            hp_of_ships[i][j] = hp_of_ships[i][j] - hit_table[i][j]\n",
    "            if(hp_of_ships[i][j] <= 0):\n",
    "                print('You won!')\n",
    "                print(hp_of_ships)\n",
    "number_of_moves = number_of_moves+1\n",
    "print('Move has been performed!')"
   ]
  },
  {
   "cell_type": "code",
   "execution_count": 40,
   "id": "1d6c3a76",
   "metadata": {},
   "outputs": [
    {
     "name": "stdout",
     "output_type": "stream",
     "text": [
      "Number of moves: 1\n"
     ]
    }
   ],
   "source": [
    "print('Number of moves:', number_of_moves)"
   ]
  },
  {
   "cell_type": "code",
   "execution_count": 212,
   "id": "c4a04167",
   "metadata": {},
   "outputs": [],
   "source": [
    "exec(\"\\nfrom ipywidgets import widgets \\nfrom ipywidgets import Layout, HBox, VBox\\nfrom IPython.display import display\\n\\nclass Pixel():\\n    \\n    def __init__(self, layout):\\n        self._button = widgets.ToggleButton(description='',button_style='',layout=layout,disabled=True)\\n        \\n    def set_color(self,color):\\n        if color in ['grey','gray']:\\n            self._button.button_style = ''\\n        elif color=='green':\\n            self._button.button_style = 'success'\\n        elif color=='blue':\\n            self._button.button_style = 'info'\\n        elif color=='orange':\\n            self._button.button_style = 'warning'\\n        elif color=='red':\\n            self._button.button_style = 'danger'\\n            \\n    def set_brightness(self,bright):\\n        self._button.value = not bright\\n        \\n    def set_text(self,text):\\n        self._button.description = text\\n        \\n\\nclass JupyterWidgetEngine():\\n    \\n    def __init__(self,start,next_frame,L=8):\\n        \\n        self.next_frame = next_frame\\n        self.L = L\\n        \\n        width = int(50*8/L)\\n        wide = str(7*width+24)+'px'\\n        wider = str(L*width+(L-1)*4)+'px'\\n        width = str(width)+'px'\\n        height = width\\n        width = str(int(50*8/L))+'px'\\n\\n        layout = Layout(width=width, height=height)\\n\\n        screen = {}\\n        for x in range(L):\\n            for y in range(L):\\n                screen[x,y] = Pixel(layout)\\n        screen['text'] = Pixel(Layout(width=wider, height=height))\\n\\n        controller = {}\\n        controller['blank'] = widgets.ToggleButton(description='',button_style='',layout=layout)\\n        controller['up'] = widgets.ToggleButton(description='▲',button_style='',layout=layout)\\n        controller['down'] = widgets.ToggleButton(description='▼',button_style='',layout=layout)\\n        controller['left'] = widgets.ToggleButton(description='◀︎',button_style='',layout=layout)\\n        controller['right'] = widgets.ToggleButton(description='►',button_style='',layout=layout)\\n        controller['A'] = widgets.ToggleButton(description='A',button_style='',layout=layout)\\n        controller['B'] = widgets.ToggleButton(description='B',button_style='',layout=layout)\\n        controller['X'] = widgets.ToggleButton(description='X',button_style='',layout=layout)\\n        controller['Y'] = widgets.ToggleButton(description='Y',button_style='',layout=layout)\\n        controller['next'] = widgets.ToggleButton(description='Next',button_style='',layout=Layout(width=wide, height=height))\\n\\n        [b,u,d,l,r,A,B,X,Y,c] = [controller['blank'],\\n                             controller['up'],\\n                             controller['down'],\\n                             controller['left'],\\n                             controller['right'],\\n                             controller['A'],\\n                             controller['B'],\\n                             controller['X'],\\n                             controller['Y'],\\n                             controller['next']]\\n\\n\\n        interface = []\\n        interface.append( widgets.HBox([screen[x,0]._button for x in range(L)]+[b,u,b,b,b,X,b]) )\\n        interface.append( widgets.HBox([screen[x,1]._button for x in range(L)]+[l,b,r,b,Y,b,A]) )\\n        interface.append( widgets.HBox([screen[x,2]._button for x in range(L)]+[b,d,b,b,b,B,b]) )\\n        interface.append( widgets.HBox([screen[x,3]._button for x in range(L)]+[c]) )\\n        for y in range(4,L):\\n            interface.append( widgets.HBox([screen[x,y]._button for x in range(L)]) )\\n        interface.append( screen['text']._button )\\n            \\n        self.screen = screen\\n        self.controller = controller\\n            \\n        start(self)\\n            \\n        display(widgets.VBox(interface))\\n        \\n        b.observe(self.given_blank)\\n        \\n        for button in self.controller:\\n            if button!='blank':\\n                self.controller[button].observe(self.given_button)\\n        \\n        \\n\\n    def given_blank(self,obs_b):\\n        if self.controller['blank'].value:\\n            self.controller['blank'].value = False\\n    \\n\\n\\n    def given_button(self,obs_n):\\n\\n        for button in self.controller:\\n            if self.controller[button].value is True:\\n                self.next_frame(self)\\n\\n        for button in self.controller.values():\\n            button.value = False\\n            \\n\")"
   ]
  },
  {
   "cell_type": "code",
   "execution_count": 213,
   "id": "d141cdb9",
   "metadata": {},
   "outputs": [
    {
     "data": {
      "application/vnd.jupyter.widget-view+json": {
       "model_id": "20ce4e6a02f7424ea3f69e873ac74b6f",
       "version_major": 2,
       "version_minor": 0
      },
      "text/plain": [
       "VBox(children=(HBox(children=(ToggleButton(value=False, button_style='success', disabled=True, layout=Layout(h…"
      ]
     },
     "metadata": {},
     "output_type": "display_data"
    }
   ],
   "source": []
  },
  {
   "cell_type": "code",
   "execution_count": null,
   "id": "3dd63fad",
   "metadata": {},
   "outputs": [],
   "source": []
  }
 ],
 "metadata": {
  "kernelspec": {
   "display_name": "Python 3",
   "language": "python",
   "name": "python3"
  },
  "language_info": {
   "codemirror_mode": {
    "name": "ipython",
    "version": 3
   },
   "file_extension": ".py",
   "mimetype": "text/x-python",
   "name": "python",
   "nbconvert_exporter": "python",
   "pygments_lexer": "ipython3",
   "version": "3.8.8"
  }
 },
 "nbformat": 4,
 "nbformat_minor": 5
}
